{
  "nbformat": 4,
  "nbformat_minor": 0,
  "metadata": {
    "colab": {
      "name": "photos_multi_classifier.ipynb",
      "provenance": [],
      "collapsed_sections": [],
      "machine_shape": "hm"
    },
    "kernelspec": {
      "name": "python3",
      "display_name": "Python 3"
    },
    "language_info": {
      "name": "python"
    },
    "accelerator": "GPU"
  },
  "cells": [
    {
      "cell_type": "code",
      "metadata": {
        "id": "A6ZHec-ffG4I",
        "colab": {
          "base_uri": "https://localhost:8080/"
        },
        "outputId": "727fdcc8-d1d7-4765-d577-bc0d94af4086"
      },
      "source": [
        "!pip install -q kaggle\n",
        "!mkdir ~/.kaggle"
      ],
      "execution_count": null,
      "outputs": [
        {
          "output_type": "stream",
          "name": "stdout",
          "text": [
            "mkdir: cannot create directory ‘/root/.kaggle’: File exists\n"
          ]
        }
      ]
    },
    {
      "cell_type": "code",
      "metadata": {
        "id": "rr-rVVYKfMD5"
      },
      "source": [
        "!cp kaggle.json ~/.kaggle/\n",
        "!chmod 600 ~/.kaggle/kaggle.json"
      ],
      "execution_count": null,
      "outputs": []
    },
    {
      "cell_type": "code",
      "metadata": {
        "colab": {
          "base_uri": "https://localhost:8080/"
        },
        "id": "CA99GSiVfQvs",
        "outputId": "a5b53509-9c9a-4c3f-d779-573a51dfc0d3"
      },
      "source": [
        "!kaggle datasets download -d puneet6060/intel-image-classification"
      ],
      "execution_count": null,
      "outputs": [
        {
          "output_type": "stream",
          "name": "stdout",
          "text": [
            "Downloading intel-image-classification.zip to /content\n",
            " 97% 336M/346M [00:02<00:00, 204MB/s]\n",
            "100% 346M/346M [00:02<00:00, 122MB/s]\n"
          ]
        }
      ]
    },
    {
      "cell_type": "code",
      "metadata": {
        "id": "wtvG3KSOfVAq"
      },
      "source": [
        "! unzip intel-image-classification.zip                           #specify your dataset"
      ],
      "execution_count": null,
      "outputs": []
    },
    {
      "cell_type": "code",
      "metadata": {
        "colab": {
          "base_uri": "https://localhost:8080/"
        },
        "id": "bSZh7Sn5eTvc",
        "outputId": "76e5f9d9-f1cb-489b-8b45-2ce5c2c090eb"
      },
      "source": [
        "\n",
        "! kaggle datasets download -d kmader/food41"
      ],
      "execution_count": null,
      "outputs": [
        {
          "output_type": "stream",
          "name": "stdout",
          "text": [
            "Downloading food41.zip to /content\n",
            "100% 5.29G/5.30G [00:57<00:00, 51.7MB/s]\n",
            "100% 5.30G/5.30G [00:57<00:00, 99.6MB/s]\n"
          ]
        }
      ]
    },
    {
      "cell_type": "code",
      "metadata": {
        "id": "K_O9QM1XeTbK"
      },
      "source": [
        "!unzip food41"
      ],
      "execution_count": null,
      "outputs": []
    },
    {
      "cell_type": "code",
      "metadata": {
        "colab": {
          "base_uri": "https://localhost:8080/"
        },
        "id": "lROUk_XafE9r",
        "outputId": "0a8d6c9c-5e1f-49af-c026-be3d5bb93beb"
      },
      "source": [
        "\n",
        "! kaggle datasets download -d alessiocorrado99/animals10"
      ],
      "execution_count": null,
      "outputs": [
        {
          "output_type": "stream",
          "name": "stdout",
          "text": [
            "Downloading animals10.zip to /content\n",
            " 98% 574M/586M [00:04<00:00, 129MB/s]\n",
            "100% 586M/586M [00:04<00:00, 134MB/s]\n"
          ]
        }
      ]
    },
    {
      "cell_type": "code",
      "metadata": {
        "id": "66eupgplfEtQ"
      },
      "source": [
        "! unzip animals10.zip\n"
      ],
      "execution_count": null,
      "outputs": []
    },
    {
      "cell_type": "code",
      "metadata": {
        "id": "BtF8VbMHf1w0"
      },
      "source": [
        "\n",
        "import numpy as np\n",
        "import os\n",
        "from sklearn.metrics import confusion_matrix\n",
        "import seaborn as sn; sn.set(font_scale=1.4)\n",
        "from sklearn.utils import shuffle           \n",
        "import matplotlib.pyplot as plt             \n",
        "import cv2                                 \n",
        "import tensorflow as tf                \n",
        "from tqdm import tqdm"
      ],
      "execution_count": null,
      "outputs": []
    },
    {
      "cell_type": "code",
      "metadata": {
        "id": "y1m2SOfHicrU"
      },
      "source": [
        "\n",
        "class_names = ['buildings', 'forest', 'glacier', 'mountain', 'sea', 'street']\n",
        "class_names_label = {class_name:i for i, class_name in enumerate(class_names)}\n",
        "\n",
        "nb_classes = len(class_names)\n",
        "\n",
        "IMAGE_SIZE = (150, 150)"
      ],
      "execution_count": null,
      "outputs": []
    },
    {
      "cell_type": "code",
      "metadata": {
        "id": "jgciqb0zf2Bk"
      },
      "source": [
        "\n",
        "from tensorflow.keras.utils import to_categorical\n",
        "def load_food_data():\n",
        "    i = 0\n",
        "    label = 2\n",
        "    datasets = ['/content/food']\n",
        "    output = []\n",
        "    # Iterate through training and test sets\n",
        "    for dataset in datasets:\n",
        "        train_images = []\n",
        "        test_images = []\n",
        "        train_labels = []\n",
        "        test_labels = []\n",
        "        print(\"Loading {}\".format(dataset))\n",
        "        # Iterate through each folder corresponding to a category\n",
        "        for folder in os.listdir(dataset):   \n",
        "            # Iterate through each image in our folder\n",
        "            for file in tqdm(os.listdir(os.path.join(dataset, folder))):\n",
        "               # Get the path name of the image\n",
        "                img_path = os.path.join(os.path.join(dataset, folder), file)\n",
        "                \n",
        "                # Open and resize the img\n",
        "                image = cv2.imread(img_path)\n",
        "                image = cv2.cvtColor(image, cv2.COLOR_BGR2RGB)\n",
        "                image = cv2.resize(image, IMAGE_SIZE) \n",
        "\n",
        "                \n",
        "                \n",
        "                # Append the image and its corresponding label to the output\n",
        "                if i >= 51:\n",
        "                  i = 0\n",
        "                  break\n",
        "                i += 1\n",
        "                if i <= 40:\n",
        "                  train_images.append(image)\n",
        "                  train_labels.append(label)\n",
        "                \n",
        "                else:\n",
        "                  test_images.append(image)\n",
        "                  test_labels.append(label)\n",
        "                \n",
        "        train_images = np.array(train_images, dtype = 'float32')\n",
        "        train_labels = np.array(train_labels, dtype = 'int32')\n",
        "        train_y = train_labels\n",
        "\n",
        "        test_images = np.array(test_images, dtype = 'float32')\n",
        "        test_labels = np.array(test_labels, dtype = 'int32')\n",
        "        test_y = test_labels       \n",
        "        \n",
        "        output.append((train_images, train_y))\n",
        "        output.append((test_images, test_y))\n",
        "\n",
        "    return output"
      ],
      "execution_count": null,
      "outputs": []
    },
    {
      "cell_type": "code",
      "metadata": {
        "colab": {
          "base_uri": "https://localhost:8080/"
        },
        "id": "VNDYKGrhf2My",
        "outputId": "276e693b-bae2-4607-e3e5-a2e53ee668c5"
      },
      "source": [
        "(X_food_train, y_food_train), (X_food_test, y_food_test) = load_food_data()\n",
        "\n"
      ],
      "execution_count": null,
      "outputs": [
        {
          "output_type": "stream",
          "name": "stdout",
          "text": [
            "Loading /content/food\n"
          ]
        },
        {
          "output_type": "stream",
          "name": "stderr",
          "text": [
            "  5%|▌         | 51/1000 [00:00<00:05, 178.39it/s]\n",
            "  5%|▌         | 51/1000 [00:00<00:04, 209.94it/s]\n",
            "  5%|▌         | 51/1000 [00:00<00:04, 196.97it/s]\n",
            "  5%|▌         | 51/1000 [00:00<00:04, 206.74it/s]\n",
            "  5%|▌         | 51/1000 [00:00<00:04, 206.00it/s]\n",
            "  5%|▌         | 51/1000 [00:00<00:04, 195.78it/s]\n",
            "  5%|▌         | 51/1000 [00:00<00:04, 199.44it/s]\n",
            "  5%|▌         | 51/1000 [00:00<00:04, 200.93it/s]\n",
            "  5%|▌         | 51/1000 [00:00<00:04, 202.21it/s]\n",
            "  5%|▌         | 51/1000 [00:00<00:04, 205.01it/s]\n",
            "  5%|▌         | 51/1000 [00:00<00:04, 202.75it/s]\n",
            "  5%|▌         | 51/1000 [00:00<00:04, 205.33it/s]\n",
            "  5%|▌         | 51/1000 [00:00<00:04, 195.62it/s]\n",
            "  5%|▌         | 51/1000 [00:00<00:04, 204.35it/s]\n",
            "  5%|▌         | 51/1000 [00:00<00:04, 197.53it/s]\n",
            "  5%|▌         | 51/1000 [00:00<00:04, 206.52it/s]\n",
            "  5%|▌         | 51/1000 [00:00<00:04, 201.36it/s]\n",
            "  5%|▌         | 51/1000 [00:00<00:04, 205.89it/s]\n",
            "  5%|▌         | 51/1000 [00:00<00:04, 197.73it/s]\n",
            "  5%|▌         | 51/1000 [00:00<00:04, 206.35it/s]\n",
            "  5%|▌         | 51/1000 [00:00<00:04, 204.50it/s]\n",
            "  5%|▌         | 51/1000 [00:00<00:04, 193.64it/s]\n",
            "  5%|▌         | 51/1000 [00:00<00:04, 193.85it/s]\n",
            "  5%|▌         | 51/1000 [00:00<00:04, 206.77it/s]\n",
            "  5%|▌         | 51/1000 [00:00<00:04, 203.22it/s]\n",
            "  5%|▌         | 51/1000 [00:00<00:04, 198.46it/s]\n",
            "  5%|▌         | 51/1000 [00:00<00:04, 198.49it/s]\n",
            "  5%|▌         | 51/1000 [00:00<00:04, 198.01it/s]\n",
            "  5%|▌         | 51/1000 [00:00<00:04, 206.93it/s]\n",
            "  5%|▌         | 51/1000 [00:00<00:04, 202.50it/s]\n",
            "  5%|▌         | 51/1000 [00:00<00:04, 199.30it/s]\n",
            "  5%|▌         | 51/1000 [00:00<00:04, 204.66it/s]\n",
            "  5%|▌         | 51/1000 [00:00<00:04, 203.46it/s]\n",
            "  5%|▌         | 51/1000 [00:00<00:04, 211.08it/s]\n",
            "  5%|▌         | 51/1000 [00:00<00:04, 200.56it/s]\n",
            "  5%|▌         | 51/1000 [00:00<00:04, 205.74it/s]\n",
            "  5%|▌         | 51/1000 [00:00<00:04, 196.58it/s]\n",
            "  5%|▌         | 51/1000 [00:00<00:04, 201.74it/s]\n",
            "  5%|▌         | 51/1000 [00:00<00:04, 208.35it/s]\n",
            "  5%|▌         | 51/1000 [00:00<00:04, 203.25it/s]\n",
            "  5%|▌         | 51/1000 [00:00<00:04, 203.13it/s]\n",
            "  5%|▌         | 51/1000 [00:00<00:04, 193.25it/s]\n",
            "  5%|▌         | 51/1000 [00:00<00:04, 204.13it/s]\n",
            "  5%|▌         | 51/1000 [00:00<00:04, 215.88it/s]\n",
            "  5%|▌         | 51/1000 [00:00<00:04, 202.19it/s]\n",
            "  5%|▌         | 51/1000 [00:00<00:04, 199.85it/s]\n",
            "  5%|▌         | 51/1000 [00:00<00:04, 206.39it/s]\n",
            "  5%|▌         | 51/1000 [00:00<00:04, 207.42it/s]\n",
            "  5%|▌         | 51/1000 [00:00<00:04, 202.64it/s]\n",
            "  5%|▌         | 51/1000 [00:00<00:04, 203.69it/s]\n",
            "  5%|▌         | 51/1000 [00:00<00:04, 202.24it/s]\n",
            "  5%|▌         | 51/1000 [00:00<00:04, 196.89it/s]\n",
            "  5%|▌         | 51/1000 [00:00<00:04, 198.48it/s]\n",
            "  5%|▌         | 51/1000 [00:00<00:04, 203.88it/s]\n",
            "  5%|▌         | 51/1000 [00:00<00:04, 207.04it/s]\n",
            "  5%|▌         | 51/1000 [00:00<00:04, 202.78it/s]\n",
            "  5%|▌         | 51/1000 [00:00<00:04, 214.19it/s]\n",
            "  5%|▌         | 51/1000 [00:00<00:04, 204.37it/s]\n",
            "  5%|▌         | 51/1000 [00:00<00:04, 199.93it/s]\n",
            "  5%|▌         | 51/1000 [00:00<00:04, 201.09it/s]\n",
            "  5%|▌         | 51/1000 [00:00<00:04, 203.63it/s]\n",
            "  5%|▌         | 51/1000 [00:00<00:04, 203.76it/s]\n",
            "  5%|▌         | 51/1000 [00:00<00:04, 204.74it/s]\n",
            "  5%|▌         | 51/1000 [00:00<00:04, 199.94it/s]\n",
            "  5%|▌         | 51/1000 [00:00<00:04, 199.90it/s]\n",
            "  5%|▌         | 51/1000 [00:00<00:04, 200.16it/s]\n",
            "  5%|▌         | 51/1000 [00:00<00:04, 208.61it/s]\n",
            "  5%|▌         | 51/1000 [00:00<00:04, 200.88it/s]\n",
            "  5%|▌         | 51/1000 [00:00<00:04, 208.38it/s]\n",
            "  5%|▌         | 51/1000 [00:00<00:04, 210.02it/s]\n",
            "  5%|▌         | 51/1000 [00:00<00:04, 201.68it/s]\n",
            "  5%|▌         | 51/1000 [00:00<00:04, 205.12it/s]\n",
            "  5%|▌         | 51/1000 [00:00<00:04, 211.03it/s]\n",
            "  5%|▌         | 51/1000 [00:00<00:04, 208.15it/s]\n",
            "  5%|▌         | 51/1000 [00:00<00:04, 201.20it/s]\n",
            "  5%|▌         | 51/1000 [00:00<00:04, 203.59it/s]\n",
            "  5%|▌         | 51/1000 [00:00<00:04, 201.93it/s]\n",
            "  5%|▌         | 51/1000 [00:00<00:04, 211.97it/s]\n",
            "  5%|▌         | 51/1000 [00:00<00:04, 208.77it/s]\n",
            "  5%|▌         | 51/1000 [00:00<00:04, 205.70it/s]\n",
            "  5%|▌         | 51/1000 [00:00<00:04, 206.39it/s]\n",
            "  5%|▌         | 51/1000 [00:00<00:04, 210.63it/s]\n",
            "  5%|▌         | 51/1000 [00:00<00:04, 204.31it/s]\n",
            "  5%|▌         | 51/1000 [00:00<00:04, 204.72it/s]\n",
            "  5%|▌         | 51/1000 [00:00<00:04, 204.25it/s]\n",
            "  5%|▌         | 51/1000 [00:00<00:04, 196.78it/s]\n",
            "  5%|▌         | 51/1000 [00:00<00:04, 206.75it/s]\n",
            "  5%|▌         | 51/1000 [00:00<00:04, 215.30it/s]\n",
            "  5%|▌         | 51/1000 [00:00<00:04, 208.78it/s]\n",
            "  5%|▌         | 51/1000 [00:00<00:04, 194.85it/s]\n",
            "  5%|▌         | 51/1000 [00:00<00:04, 202.78it/s]\n",
            "  5%|▌         | 51/1000 [00:00<00:04, 207.09it/s]\n",
            "  5%|▌         | 51/1000 [00:00<00:04, 204.78it/s]\n",
            "  5%|▌         | 51/1000 [00:00<00:04, 206.65it/s]\n",
            "  5%|▌         | 51/1000 [00:00<00:04, 208.56it/s]\n",
            "  5%|▌         | 51/1000 [00:00<00:04, 199.08it/s]\n",
            "  5%|▌         | 51/1000 [00:00<00:04, 202.01it/s]\n",
            "  5%|▌         | 51/1000 [00:00<00:04, 205.79it/s]\n",
            "  5%|▌         | 51/1000 [00:00<00:04, 205.38it/s]\n",
            "  5%|▌         | 51/1000 [00:00<00:04, 205.94it/s]\n",
            "  5%|▌         | 51/1000 [00:00<00:04, 207.67it/s]\n"
          ]
        }
      ]
    },
    {
      "cell_type": "code",
      "metadata": {
        "colab": {
          "base_uri": "https://localhost:8080/"
        },
        "id": "aNvsXDM-f2Yz",
        "outputId": "5495adb9-2f0e-40d9-be38-417fe10e2bab"
      },
      "source": [
        "X_food_train.shape, X_food_test.shape, y_food_train.shape, y_food_test.shape"
      ],
      "execution_count": null,
      "outputs": [
        {
          "output_type": "execute_result",
          "data": {
            "text/plain": [
              "((4040, 150, 150, 3), (1111, 150, 150, 3), (4040,), (1111,))"
            ]
          },
          "metadata": {},
          "execution_count": 41
        }
      ]
    },
    {
      "cell_type": "code",
      "metadata": {
        "id": "kwqHK-Igf3EW"
      },
      "source": [
        "\n",
        "def load_animals_data():\n",
        "    i = 0\n",
        "    label = 3\n",
        "    datasets = ['/content/animals']\n",
        "    output = []\n",
        "    # Iterate through training and test sets\n",
        "    for dataset in datasets:\n",
        "        train_images = []\n",
        "        test_images = []\n",
        "        train_labels = []\n",
        "        test_labels = []\n",
        "        print(\"Loading {}\".format(dataset))\n",
        "        # Iterate through each folder corresponding to a category\n",
        "        for folder in os.listdir(dataset):   \n",
        "            # Iterate through each image in our folder\n",
        "            for file in tqdm(os.listdir(os.path.join(dataset, folder))):\n",
        "               # Get the path name of the image\n",
        "                img_path = os.path.join(os.path.join(dataset, folder), file)\n",
        "                \n",
        "                # Open and resize the img\n",
        "                image = cv2.imread(img_path)\n",
        "                image = cv2.cvtColor(image, cv2.COLOR_BGR2RGB)\n",
        "                image = cv2.resize(image, IMAGE_SIZE) \n",
        "\n",
        "                \n",
        "                \n",
        "                # Append the image and its corresponding label to the output\n",
        "                if i >= 501:\n",
        "                  i = 0\n",
        "                  break\n",
        "                i += 1\n",
        "                if i <= 400:\n",
        "                  train_images.append(image)\n",
        "                  train_labels.append(label)\n",
        "                \n",
        "                else:\n",
        "                  test_images.append(image)\n",
        "                  test_labels.append(label)\n",
        "                \n",
        "        train_images = np.array(train_images, dtype = 'float32')\n",
        "        train_labels = np.array(train_labels, dtype = 'int32')\n",
        "        train_y = train_labels\n",
        "\n",
        "        test_images = np.array(test_images, dtype = 'float32')\n",
        "        test_labels = np.array(test_labels, dtype = 'int32')\n",
        "        test_y = test_labels       \n",
        "        \n",
        "        output.append((train_images, train_y))\n",
        "        output.append((test_images, test_y))\n",
        "\n",
        "    return output"
      ],
      "execution_count": null,
      "outputs": []
    },
    {
      "cell_type": "code",
      "metadata": {
        "colab": {
          "base_uri": "https://localhost:8080/"
        },
        "id": "F8qnx3VHnAs1",
        "outputId": "345a8cce-4d5c-412b-b3a0-d0ececd1c388"
      },
      "source": [
        "(X_animals_train, y_animals_train), (X_animals_test, y_animals_test) = load_animals_data()\n",
        "\n"
      ],
      "execution_count": null,
      "outputs": [
        {
          "output_type": "stream",
          "name": "stdout",
          "text": [
            "Loading /content/animals\n"
          ]
        },
        {
          "output_type": "stream",
          "name": "stderr",
          "text": [
            " 27%|██▋       | 501/1862 [00:01<00:02, 488.50it/s]\n",
            " 27%|██▋       | 501/1866 [00:00<00:02, 531.43it/s]\n",
            " 30%|███       | 501/1668 [00:04<00:09, 117.16it/s]\n",
            " 10%|█         | 501/4821 [00:01<00:10, 427.34it/s]\n",
            " 24%|██▎       | 501/2112 [00:01<00:04, 360.17it/s]\n",
            " 28%|██▊       | 501/1820 [00:01<00:03, 360.03it/s]\n",
            " 19%|█▉        | 501/2623 [00:01<00:04, 476.68it/s]\n",
            " 16%|█▌        | 501/3098 [00:01<00:05, 463.68it/s]\n",
            " 10%|█         | 501/4863 [00:01<00:09, 455.87it/s]\n",
            " 35%|███▍      | 501/1446 [00:01<00:02, 342.84it/s]\n"
          ]
        }
      ]
    },
    {
      "cell_type": "code",
      "metadata": {
        "colab": {
          "base_uri": "https://localhost:8080/"
        },
        "id": "2tQvhBmXnYE-",
        "outputId": "0f62f914-09d3-405d-beb5-f4cedda5f594"
      },
      "source": [
        "\n",
        "X_animals_train.shape, X_animals_test.shape, y_animals_train.shape, y_animals_test.shape"
      ],
      "execution_count": null,
      "outputs": [
        {
          "output_type": "execute_result",
          "data": {
            "text/plain": [
              "((4000, 150, 150, 3), (1010, 150, 150, 3), (4000,), (1010,))"
            ]
          },
          "metadata": {},
          "execution_count": 46
        }
      ]
    },
    {
      "cell_type": "code",
      "metadata": {
        "id": "Q6xTSXiDocmN"
      },
      "source": [
        "\n",
        "!mv -v /content/seg_test/seg_test/forest/sea/* /content/seg_test/seg_test/forest/"
      ],
      "execution_count": null,
      "outputs": []
    },
    {
      "cell_type": "code",
      "metadata": {
        "id": "nBDsJilkrRmQ"
      },
      "source": [
        "\n",
        "!rm -r /content/seg_test/seg_test/.ipynb_checkpoints "
      ],
      "execution_count": null,
      "outputs": []
    },
    {
      "cell_type": "code",
      "metadata": {
        "id": "6vvpt4weeqZL"
      },
      "source": [
        "import numpy as np\n",
        "import os\n",
        "from sklearn.metrics import confusion_matrix\n",
        "import seaborn as sn; sn.set(font_scale=1.4)\n",
        "from sklearn.utils import shuffle           \n",
        "import matplotlib.pyplot as plt             \n",
        "import cv2                                 \n",
        "import tensorflow as tf                \n",
        "from tqdm import tqdm"
      ],
      "execution_count": null,
      "outputs": []
    },
    {
      "cell_type": "code",
      "metadata": {
        "id": "fkPOaxpweuf_"
      },
      "source": [
        "class_names = ['city', 'nature']\n",
        "class_names_label = {class_name:i for i, class_name in enumerate(class_names)}\n",
        "\n",
        "nb_classes = len(class_names)\n",
        "\n",
        "IMAGE_SIZE = (150, 150)"
      ],
      "execution_count": null,
      "outputs": []
    },
    {
      "cell_type": "code",
      "metadata": {
        "colab": {
          "base_uri": "https://localhost:8080/"
        },
        "id": "VBvoWAETrnJn",
        "outputId": "f89c27c6-4343-4cdc-c1d6-da6c06891af2"
      },
      "source": [
        "from tensorflow.keras.preprocessing.image import ImageDataGenerator as idg\n",
        "classes = idg().flow_from_directory(\"/content/seg_train/seg_train\",class_mode = 'categorical').class_indices\n",
        "num_classes = len(classes)\n",
        "num_classes"
      ],
      "execution_count": null,
      "outputs": [
        {
          "output_type": "stream",
          "name": "stdout",
          "text": [
            "Found 11630 images belonging to 2 classes.\n"
          ]
        },
        {
          "output_type": "execute_result",
          "data": {
            "text/plain": [
              "2"
            ]
          },
          "metadata": {},
          "execution_count": 61
        }
      ]
    },
    {
      "cell_type": "code",
      "metadata": {
        "colab": {
          "base_uri": "https://localhost:8080/"
        },
        "id": "vzqHOJHAq9lW",
        "outputId": "435d31d5-bbe2-4458-feb2-14d534fe1a82"
      },
      "source": [
        "classes"
      ],
      "execution_count": null,
      "outputs": [
        {
          "output_type": "execute_result",
          "data": {
            "text/plain": [
              "{'.ipynb_checkpoints': 0, 'city': 1, 'nature': 2}"
            ]
          },
          "metadata": {},
          "execution_count": 57
        }
      ]
    },
    {
      "cell_type": "code",
      "metadata": {
        "colab": {
          "base_uri": "https://localhost:8080/"
        },
        "id": "4ZLaRvCPE5bz",
        "outputId": "31e4b22e-c739-46ad-87f2-5cbcc25990af"
      },
      "source": [
        "\n",
        "os.listdir('/content/seg_train/seg_train')"
      ],
      "execution_count": null,
      "outputs": [
        {
          "output_type": "execute_result",
          "data": {
            "text/plain": [
              "['forest', 'buildings', 'sea', 'street', 'glacier', 'mountain']"
            ]
          },
          "metadata": {},
          "execution_count": 17
        }
      ]
    },
    {
      "cell_type": "code",
      "metadata": {
        "id": "mab3KdTce3Db"
      },
      "source": [
        "from tensorflow.keras.utils import to_categorical\n",
        "def load_data():\n",
        "    datasets = ['/content/seg_train/seg_train', '/content/seg_test/seg_test']\n",
        "    output = []\n",
        "    \n",
        "    # Iterate through training and test sets\n",
        "    for dataset in datasets:\n",
        "        k = -1\n",
        "        images = []\n",
        "        labels = []\n",
        "        print(\"Loading {}\".format(dataset))       \n",
        "        # Iterate through each folder corresponding to a category\n",
        "        for folder in os.listdir(dataset):\n",
        "            k += 1\n",
        "            label = k\n",
        "            # Iterate through each image in our folder\n",
        "            for file in tqdm(os.listdir(os.path.join(dataset, folder))):\n",
        "              if file.endswith('.jpg'):\n",
        "               # Get the path name of the image\n",
        "                img_path = os.path.join(os.path.join(dataset, folder), file)\n",
        "                \n",
        "                # Open and resize the img\n",
        "                image = cv2.imread(img_path)\n",
        "                image = cv2.cvtColor(image, cv2.COLOR_BGR2RGB)\n",
        "                image = cv2.resize(image, IMAGE_SIZE) \n",
        "                \n",
        "                # Append the image and its corresponding label to the output\n",
        "                images.append(image)\n",
        "                labels.append(label)  \n",
        "        images = np.array(images, dtype = 'float32')\n",
        "        labels = np.array(labels, dtype = 'int32')\n",
        "        y = labels     \n",
        "        \n",
        "        output.append((images, y))\n",
        "\n",
        "    return output"
      ],
      "execution_count": null,
      "outputs": []
    },
    {
      "cell_type": "code",
      "metadata": {
        "colab": {
          "base_uri": "https://localhost:8080/"
        },
        "id": "xo8IUazcgxwU",
        "outputId": "f97ec967-9f5d-4edd-a427-dceb43a705d8"
      },
      "source": [
        "(X_train, y_train), (X_test, y_test) = load_data()"
      ],
      "execution_count": null,
      "outputs": [
        {
          "output_type": "stream",
          "name": "stdout",
          "text": [
            "Loading /content/seg_train/seg_train\n"
          ]
        },
        {
          "output_type": "stream",
          "name": "stderr",
          "text": [
            "100%|██████████| 4574/4574 [00:02<00:00, 2062.58it/s]\n",
            "100%|██████████| 7058/7058 [00:03<00:00, 2073.56it/s]\n"
          ]
        },
        {
          "output_type": "stream",
          "name": "stdout",
          "text": [
            "Loading /content/seg_test/seg_test\n"
          ]
        },
        {
          "output_type": "stream",
          "name": "stderr",
          "text": [
            "100%|██████████| 939/939 [00:00<00:00, 2090.15it/s]\n",
            "100%|██████████| 1510/1510 [00:00<00:00, 2096.76it/s]\n"
          ]
        }
      ]
    },
    {
      "cell_type": "code",
      "metadata": {
        "colab": {
          "base_uri": "https://localhost:8080/"
        },
        "id": "Y9FDSeMuxb6i",
        "outputId": "c2f11c15-42bb-4807-d321-a9f32f029a94"
      },
      "source": [
        "\n",
        "np.unique(y_train), np.unique(y_test)"
      ],
      "execution_count": null,
      "outputs": [
        {
          "output_type": "execute_result",
          "data": {
            "text/plain": [
              "(array([0, 1], dtype=int32), array([0, 1], dtype=int32))"
            ]
          },
          "metadata": {},
          "execution_count": 22
        }
      ]
    },
    {
      "cell_type": "code",
      "metadata": {
        "colab": {
          "base_uri": "https://localhost:8080/"
        },
        "id": "CygSY_J7FHFe",
        "outputId": "7bb4c434-6416-4a29-94a0-de580cfa9224"
      },
      "source": [
        "X_train.shape, y_train.shape, X_test.shape, y_test.shape"
      ],
      "execution_count": null,
      "outputs": [
        {
          "output_type": "execute_result",
          "data": {
            "text/plain": [
              "((10000, 150, 150, 3), (18000,), (2000, 150, 150, 3), (2000,))"
            ]
          },
          "metadata": {},
          "execution_count": 104
        }
      ]
    },
    {
      "cell_type": "code",
      "metadata": {
        "colab": {
          "base_uri": "https://localhost:8080/"
        },
        "id": "NjP7BdvUs98s",
        "outputId": "e3a6fbff-85f3-40d5-d045-f99b704eeee7"
      },
      "source": [
        "y_train.shape"
      ],
      "execution_count": null,
      "outputs": [
        {
          "output_type": "execute_result",
          "data": {
            "text/plain": [
              "(16000,)"
            ]
          },
          "metadata": {},
          "execution_count": 81
        }
      ]
    },
    {
      "cell_type": "code",
      "metadata": {
        "id": "DkIi4naDiEi3"
      },
      "source": [
        "X_train, y_train = shuffle(X_train, y_train, random_state=25)"
      ],
      "execution_count": null,
      "outputs": []
    },
    {
      "cell_type": "code",
      "metadata": {
        "id": "nib9KTWY2soh"
      },
      "source": [
        "X_test, y_test = shuffle(X_test, y_test, random_state=25)\n"
      ],
      "execution_count": null,
      "outputs": []
    },
    {
      "cell_type": "code",
      "metadata": {
        "id": "jYpRMmqBtFIQ"
      },
      "source": [
        "\n",
        "X_train, y_train = X_train[:8000], y_train[:8000]\n",
        "\n",
        "X_test, y_test = X_test[:2000], y_test[:2000]\n",
        "\n",
        "X_food_train, y_food_train, X_animals_train, y_animals_train = X_food_train[:4000], y_food_train[:4000], X_animals_train[:4000], y_animals_train[:4000]\n",
        "\n",
        "X_food_test, y_food_test, X_animals_test, y_animals_test = X_food_test[:1000], y_food_test[:1000], X_animals_test[:1000], y_animals_test[:1000]\n"
      ],
      "execution_count": null,
      "outputs": []
    },
    {
      "cell_type": "code",
      "metadata": {
        "colab": {
          "base_uri": "https://localhost:8080/"
        },
        "id": "yMTF2MMwHyJe",
        "outputId": "799e6d2f-64df-4a69-fc03-52d34a24d552"
      },
      "source": [
        "np.unique(y_test)\n"
      ],
      "execution_count": null,
      "outputs": [
        {
          "output_type": "execute_result",
          "data": {
            "text/plain": [
              "array([2, 3], dtype=int32)"
            ]
          },
          "metadata": {},
          "execution_count": 18
        }
      ]
    },
    {
      "cell_type": "code",
      "metadata": {
        "colab": {
          "base_uri": "https://localhost:8080/"
        },
        "id": "ovLtapaEIQvc",
        "outputId": "8f1d5b3d-5113-4c8f-a61c-efe7197b661b"
      },
      "source": [
        "\n",
        "np.unique(y_train)"
      ],
      "execution_count": null,
      "outputs": [
        {
          "output_type": "execute_result",
          "data": {
            "text/plain": [
              "array([0, 1], dtype=int32)"
            ]
          },
          "metadata": {},
          "execution_count": 19
        }
      ]
    },
    {
      "cell_type": "code",
      "metadata": {
        "colab": {
          "base_uri": "https://localhost:8080/"
        },
        "id": "6hwyvm6YHyx_",
        "outputId": "1ec2279e-6cab-4c52-c419-b6bee8dbea2a"
      },
      "source": [
        "y_test_flipped\n"
      ],
      "execution_count": null,
      "outputs": [
        {
          "output_type": "execute_result",
          "data": {
            "text/plain": [
              "array([1, 1, 1, ..., 1, 1, 1])"
            ]
          },
          "metadata": {},
          "execution_count": 17
        }
      ]
    },
    {
      "cell_type": "code",
      "metadata": {
        "colab": {
          "base_uri": "https://localhost:8080/"
        },
        "id": "_mQfvegjtovg",
        "outputId": "42e8c620-759a-442d-bb3a-4337d9c61c18"
      },
      "source": [
        "y_train = np.concatenate ((y_animals_train, y_food_train, y_train))\n",
        "\n",
        "y_train.shape\n",
        "\n",
        "#y_train = to_categorical(y_train, 4)\n",
        "\n"
      ],
      "execution_count": null,
      "outputs": [
        {
          "output_type": "execute_result",
          "data": {
            "text/plain": [
              "(16000,)"
            ]
          },
          "metadata": {},
          "execution_count": 25
        }
      ]
    },
    {
      "cell_type": "code",
      "metadata": {
        "colab": {
          "base_uri": "https://localhost:8080/"
        },
        "id": "8p5G-Sk6w6Lb",
        "outputId": "fc1341fa-ac4b-41ad-f2a1-02a9dbb55b76"
      },
      "source": [
        "np.unique(y_train)"
      ],
      "execution_count": null,
      "outputs": [
        {
          "output_type": "execute_result",
          "data": {
            "text/plain": [
              "array([0, 1, 2, 3], dtype=int32)"
            ]
          },
          "metadata": {},
          "execution_count": 90
        }
      ]
    },
    {
      "cell_type": "code",
      "metadata": {
        "colab": {
          "base_uri": "https://localhost:8080/"
        },
        "id": "r6e954ucvAUx",
        "outputId": "c140dfca-307c-4b09-ecde-cac4b0b922ca"
      },
      "source": [
        "y_train_final = to_categorical(y_train, num_classes = 4)\n",
        "y_train_final.shape"
      ],
      "execution_count": null,
      "outputs": [
        {
          "output_type": "execute_result",
          "data": {
            "text/plain": [
              "(16000, 4)"
            ]
          },
          "metadata": {},
          "execution_count": 26
        }
      ]
    },
    {
      "cell_type": "code",
      "metadata": {
        "id": "Df-URQ6xyaWC"
      },
      "source": [
        ""
      ],
      "execution_count": null,
      "outputs": []
    },
    {
      "cell_type": "code",
      "metadata": {
        "colab": {
          "base_uri": "https://localhost:8080/"
        },
        "id": "UToEhhQIx5C2",
        "outputId": "61a70a14-2ede-4840-cf1e-2c7ece8627db"
      },
      "source": [
        "\n",
        "X_train_final = np.concatenate((X_animals_train, X_food_train, X_train))\n",
        "\n",
        "X_train_final.shape"
      ],
      "execution_count": null,
      "outputs": [
        {
          "output_type": "execute_result",
          "data": {
            "text/plain": [
              "(16000, 150, 150, 3)"
            ]
          },
          "metadata": {},
          "execution_count": 27
        }
      ]
    },
    {
      "cell_type": "code",
      "metadata": {
        "colab": {
          "base_uri": "https://localhost:8080/"
        },
        "id": "0qHQdF4hyJWu",
        "outputId": "29aa0631-0ef4-49a8-d94b-8b2837f6cf57"
      },
      "source": [
        "\n",
        "X_test_final = np.concatenate((X_animals_test, X_food_test, X_test))\n",
        "\n",
        "y_test_final = np.concatenate((y_animals_test, y_food_test, y_test))\n",
        "\n",
        "X_test_final.shape, y_test_final.shape"
      ],
      "execution_count": null,
      "outputs": [
        {
          "output_type": "execute_result",
          "data": {
            "text/plain": [
              "((4000, 150, 150, 3), (4000,))"
            ]
          },
          "metadata": {},
          "execution_count": 28
        }
      ]
    },
    {
      "cell_type": "code",
      "metadata": {
        "colab": {
          "base_uri": "https://localhost:8080/"
        },
        "id": "xhl7wiKSybpk",
        "outputId": "299e9ade-7b23-4770-ecf7-0460820071d1"
      },
      "source": [
        "\n",
        "y_test_final = to_categorical(y_test_final, num_classes = 4)\n",
        "y_test_final.shape"
      ],
      "execution_count": null,
      "outputs": [
        {
          "output_type": "execute_result",
          "data": {
            "text/plain": [
              "(4000, 4)"
            ]
          },
          "metadata": {},
          "execution_count": 29
        }
      ]
    },
    {
      "cell_type": "code",
      "metadata": {
        "colab": {
          "base_uri": "https://localhost:8080/"
        },
        "id": "MZe3eUTSiFF4",
        "outputId": "53299f78-1d2a-4684-fb9a-e72dc44e14d9"
      },
      "source": [
        "type(X_train),type(y_train)"
      ],
      "execution_count": null,
      "outputs": [
        {
          "output_type": "execute_result",
          "data": {
            "text/plain": [
              "(numpy.ndarray, numpy.ndarray)"
            ]
          },
          "metadata": {},
          "execution_count": 23
        }
      ]
    },
    {
      "cell_type": "code",
      "metadata": {
        "colab": {
          "base_uri": "https://localhost:8080/"
        },
        "id": "HixVkX4r0xvK",
        "outputId": "532cf4ce-91e6-4165-f697-a78fe2826a52"
      },
      "source": [
        "len(X_train)"
      ],
      "execution_count": null,
      "outputs": [
        {
          "output_type": "execute_result",
          "data": {
            "text/plain": [
              "14034"
            ]
          },
          "metadata": {},
          "execution_count": 24
        }
      ]
    },
    {
      "cell_type": "code",
      "metadata": {
        "id": "BEkO9dcxjZte"
      },
      "source": [
        "X_train_rescaled = X_train_final / 255.0"
      ],
      "execution_count": null,
      "outputs": []
    },
    {
      "cell_type": "code",
      "metadata": {
        "id": "ks0foxAPHEBE"
      },
      "source": [
        "\n",
        "X_test_rescaled = X_test_final / 255.0"
      ],
      "execution_count": null,
      "outputs": []
    },
    {
      "cell_type": "code",
      "metadata": {
        "id": "7EElY2dcyw-d"
      },
      "source": [
        "X_train_final, y_train_final = shuffle(X_train_final, y_train_final, random_state=25)"
      ],
      "execution_count": null,
      "outputs": []
    },
    {
      "cell_type": "code",
      "metadata": {
        "id": "gESESYG3nWj6"
      },
      "source": [
        "from tensorflow.keras import models,Sequential,layers"
      ],
      "execution_count": null,
      "outputs": []
    },
    {
      "cell_type": "code",
      "metadata": {
        "id": "zwy9IA2Zjf6y"
      },
      "source": [
        "model = Sequential()\n",
        "\n",
        "# Convolutional layer and maxpool layer 1\n",
        "model.add(layers.Conv2D(32,(3,3),activation='relu',input_shape=(150,150,3)))\n",
        "model.add(layers.MaxPool2D(2,2))\n",
        "\n",
        "# Convolutional layer and maxpool layer 2\n",
        "model.add(layers.Conv2D(64,(3,3),activation='relu'))\n",
        "model.add(layers.MaxPool2D(2,2))\n",
        "\n",
        "# Convolutional layer and maxpool layer 3\n",
        "model.add(layers.Conv2D(128,(3,3),activation='relu'))\n",
        "model.add(layers.MaxPool2D(2,2))\n",
        "\n",
        "# Convolutional layer and maxpool layer 4\n",
        "model.add(layers.Conv2D(128,(3,3),activation='relu'))\n",
        "model.add(layers.MaxPool2D(2,2))\n",
        "\n",
        "# This layer flattens the resulting image array to 1D array\n",
        "model.add(layers.Flatten())\n",
        "\n",
        "# Hidden layer with 512 neurons and Rectified Linear Unit activation function \n",
        "model.add(layers.Dense(512,activation='relu'))\n",
        "\n",
        "# Output layer with single neuron which gives 1 for Screenshots or 0 for others \n",
        "#Here we use sigmoid activation function which makes our model output to lie between 0 and 1\n",
        "model.add(layers.Dense(6,activation='softmax'))"
      ],
      "execution_count": null,
      "outputs": []
    },
    {
      "cell_type": "code",
      "metadata": {
        "id": "CgaUw-B_nE6_"
      },
      "source": [
        "model.compile(loss='categorical_crossentropy',\n",
        "              optimizer='adam',\n",
        "              metrics=['accuracy'])"
      ],
      "execution_count": null,
      "outputs": []
    },
    {
      "cell_type": "code",
      "metadata": {
        "id": "lFeS-Pxk1j0K"
      },
      "source": [
        "from tensorflow.keras.models import Model\n",
        "\n",
        "#model.summary()"
      ],
      "execution_count": null,
      "outputs": []
    },
    {
      "cell_type": "code",
      "metadata": {
        "id": "zWfzobBRjxke"
      },
      "source": [
        "from tensorflow.keras.callbacks import EarlyStopping\n",
        "# es = EarlyStopping(patience = 10, restore_best_weights = True)\n",
        "# history = model.fit(X_train_rescaled,y_train,\n",
        "#          batch_size=64, \n",
        "#          epochs=100, \n",
        "#          validation_split=0.3,\n",
        "#          callbacks=[es],\n",
        "#          verbose = 1)"
      ],
      "execution_count": null,
      "outputs": []
    },
    {
      "cell_type": "code",
      "metadata": {
        "colab": {
          "base_uri": "https://localhost:8080/"
        },
        "id": "FkAM6vp5MLsw",
        "outputId": "ea5b5421-ed44-4e7a-bbf8-55a5b2b84ce3"
      },
      "source": [
        "X_train_rescaled.shape,y_train.shape"
      ],
      "execution_count": null,
      "outputs": [
        {
          "output_type": "execute_result",
          "data": {
            "text/plain": [
              "((14034, 150, 150, 3), (14034, 6))"
            ]
          },
          "metadata": {},
          "execution_count": 24
        }
      ]
    },
    {
      "cell_type": "code",
      "metadata": {
        "colab": {
          "base_uri": "https://localhost:8080/"
        },
        "id": "1zP9DpA7j1Iv",
        "outputId": "41fb4c27-1816-44a1-cf2e-93292bf7df6d"
      },
      "source": [
        "model.evaluate(X_test_rescaled,y_test)"
      ],
      "execution_count": null,
      "outputs": [
        {
          "output_type": "stream",
          "text": [
            "94/94 [==============================] - 1s 8ms/step - loss: 0.4969 - accuracy: 0.8220\n"
          ],
          "name": "stdout"
        },
        {
          "output_type": "execute_result",
          "data": {
            "text/plain": [
              "[0.49694356322288513, 0.8220000267028809]"
            ]
          },
          "metadata": {},
          "execution_count": 25
        }
      ]
    },
    {
      "cell_type": "code",
      "metadata": {
        "id": "oJAcYMYBkhip"
      },
      "source": [
        "def display_random_image(class_names, images, labels):\n",
        "    \"\"\"\n",
        "        Display a random image from the images array and its correspond label from the labels array.\n",
        "    \"\"\"\n",
        "    \n",
        "    index = np.random.randint(images.shape[0])\n",
        "    plt.figure()\n",
        "    plt.imshow(images[index])\n",
        "    plt.xticks([])\n",
        "    plt.yticks([])\n",
        "    plt.grid(False)\n",
        "    plt.title('Image #{} : '.format(index) + class_names[labels[index]])\n",
        "    plt.show()"
      ],
      "execution_count": null,
      "outputs": []
    },
    {
      "cell_type": "code",
      "metadata": {
        "colab": {
          "base_uri": "https://localhost:8080/",
          "height": 268
        },
        "id": "q_9DSyOxkvEW",
        "outputId": "39da59cd-7ad2-4bd3-e9e7-778efbce7dc7"
      },
      "source": [
        "predictions = model.predict(X_test_rescaled)     # Vector of probabilities\n",
        "pred_labels = np.argmax(predictions, axis = 1) # We take the highest probability\n",
        "\n",
        "display_random_image(class_names, X_test_rescaled, pred_labels)"
      ],
      "execution_count": null,
      "outputs": [
        {
          "output_type": "display_data",
          "data": {
            "image/png": "[encoded data removed]",
            "text/plain": [
              "<Figure size 432x288 with 1 Axes>"
            ]
          },
          "metadata": {}
        }
      ]
    },
    {
      "cell_type": "code",
      "metadata": {
        "id": "SR2pLCkuJZoz"
      },
      "source": [
        "from tensorflow.keras.applications.vgg16 import VGG16\n",
        "\n",
        "def load_model():\n",
        "    # $CHALLENGIFY_BEGIN\n",
        "    vgg = VGG16(weights=\"imagenet\", include_top=False, input_shape=X_train[0].shape)\n",
        "    # $CHALLENGIFY_END\n",
        "    \n",
        "    return vgg"
      ],
      "execution_count": null,
      "outputs": []
    },
    {
      "cell_type": "code",
      "metadata": {
        "id": "86tGjyFPJk3T"
      },
      "source": [
        "# vgg = load_model()\n",
        "# vgg.summary()"
      ],
      "execution_count": null,
      "outputs": []
    },
    {
      "cell_type": "code",
      "metadata": {
        "id": "G_WqfEzfJv5-"
      },
      "source": [
        "def set_nontrainable_layers(vgg):\n",
        "    # Set the first layers to be untrainable\n",
        "    vgg.trainable = False\n",
        "    \n",
        "    return vgg\n",
        "\n",
        "# vgg\n",
        "# vgg = set_nontrainable_layers(vgg)\n",
        "\n",
        "# vgg.summary()"
      ],
      "execution_count": null,
      "outputs": []
    },
    {
      "cell_type": "code",
      "metadata": {
        "id": "sk33Kx2yJy2h"
      },
      "source": [
        "from tensorflow.keras import layers, models\n",
        "\n",
        "def add_last_layers(vgg):\n",
        "    '''Take a pre-trained model, set its parameters as non-trainables, and add additional trainable layers on top'''\n",
        "    # $CHALLENGIFY_BEGIN\n",
        "    base_model = set_nontrainable_layers(vgg)\n",
        "    flatten_layer = layers.Flatten()\n",
        "    dense_layer_1 = layers.Dense(256, activation='relu')\n",
        "    dense_layer_2 = layers.Dense(64, activation='relu')\n",
        "    prediction_layer = layers.Dense(4, activation='softmax')\n",
        "    \n",
        "    \n",
        "    vgg = models.Sequential([\n",
        "        base_model,\n",
        "        flatten_layer,\n",
        "        dense_layer_1,\n",
        "        dense_layer_2,\n",
        "        prediction_layer\n",
        "    ])\n",
        "    # $CHALLENGIFY_END\n",
        "    return vgg"
      ],
      "execution_count": null,
      "outputs": []
    },
    {
      "cell_type": "code",
      "metadata": {
        "id": "ThYBk32tJ4NO"
      },
      "source": [
        "# vgg = add_last_layers(vgg)\n",
        "# vgg.summary()"
      ],
      "execution_count": null,
      "outputs": []
    },
    {
      "cell_type": "code",
      "metadata": {
        "id": "1EsXe4XCJ7MP"
      },
      "source": [
        "from tensorflow.keras import optimizers\n",
        "\n",
        "def build_model():\n",
        "    # Step 1 - Loading VGG16\n",
        "    # without the dense layers\n",
        "    # based on the imagenet weights    \n",
        "\n",
        "    vgg = load_model()\n",
        "\n",
        "    # Step 2 \n",
        "    # Setting the imagenet weights to be non-trainable\n",
        "    # adding the Flatten + Dense + Prediction Lazers\n",
        "    vgg = add_last_layers(vgg)\n",
        "    \n",
        "    # Step 3\n",
        "    # Compiling\n",
        "    opt = optimizers.Adam(learning_rate=1e-4)\n",
        "    vgg.compile(loss='categorical_crossentropy',\n",
        "                  optimizer=opt,\n",
        "                  metrics=['accuracy'])\n",
        "    return vgg\n",
        "    # $CHALLENGIFY_END"
      ],
      "execution_count": null,
      "outputs": []
    },
    {
      "cell_type": "code",
      "metadata": {
        "colab": {
          "base_uri": "https://localhost:8080/"
        },
        "id": "9ouxnw2_UuSs",
        "outputId": "7570afd4-0db9-4723-f1f3-919ceff3030d"
      },
      "source": [
        "customized_vgg = build_model()\n",
        "customized_vgg.summary()"
      ],
      "execution_count": null,
      "outputs": [
        {
          "output_type": "stream",
          "name": "stdout",
          "text": [
            "Model: \"sequential\"\n",
            "_________________________________________________________________\n",
            "Layer (type)                 Output Shape              Param #   \n",
            "=================================================================\n",
            "vgg16 (Functional)           (None, 4, 4, 512)         14714688  \n",
            "_________________________________________________________________\n",
            "flatten (Flatten)            (None, 8192)              0         \n",
            "_________________________________________________________________\n",
            "dense (Dense)                (None, 256)               2097408   \n",
            "_________________________________________________________________\n",
            "dense_1 (Dense)              (None, 64)                16448     \n",
            "_________________________________________________________________\n",
            "dense_2 (Dense)              (None, 4)                 260       \n",
            "=================================================================\n",
            "Total params: 16,828,804\n",
            "Trainable params: 2,114,116\n",
            "Non-trainable params: 14,714,688\n",
            "_________________________________________________________________\n"
          ]
        }
      ]
    },
    {
      "cell_type": "code",
      "metadata": {
        "id": "u7pX235LKDBh"
      },
      "source": [
        "from tensorflow.keras.applications.vgg16 import preprocess_input"
      ],
      "execution_count": null,
      "outputs": []
    },
    {
      "cell_type": "code",
      "metadata": {
        "id": "L4EjyxDEKF0d"
      },
      "source": [
        "X_train = preprocess_input(X_train_final) \n",
        "#X_val = preprocess_input(X_val)\n",
        "X_test = preprocess_input(X_test_final)"
      ],
      "execution_count": null,
      "outputs": []
    },
    {
      "cell_type": "code",
      "metadata": {
        "colab": {
          "base_uri": "https://localhost:8080/"
        },
        "id": "gW4ND4KMLMYF",
        "outputId": "8a5f11de-48ad-45f1-de94-05a816c7c29e"
      },
      "source": [
        "X_train.shape,y_train.shape"
      ],
      "execution_count": null,
      "outputs": [
        {
          "output_type": "execute_result",
          "data": {
            "text/plain": [
              "((16000, 150, 150, 3), (16000,))"
            ]
          },
          "metadata": {},
          "execution_count": 33
        }
      ]
    },
    {
      "cell_type": "code",
      "metadata": {
        "colab": {
          "base_uri": "https://localhost:8080/"
        },
        "id": "eMrRRnpJS7aM",
        "outputId": "cbb761c3-04b8-415c-cae7-92620ec8a492"
      },
      "source": [
        "\n",
        "X_train[0]"
      ],
      "execution_count": null,
      "outputs": [
        {
          "output_type": "execute_result",
          "data": {
            "text/plain": [
              "array([[[ -65.939   ,  -73.779   ,  -77.68    ],\n",
              "        [ -97.939   , -105.779   , -111.68    ],\n",
              "        [ -60.939003,  -67.779   ,  -75.68    ],\n",
              "        ...,\n",
              "        [-101.939   , -111.779   , -113.68    ],\n",
              "        [-101.939   , -113.779   , -110.68    ],\n",
              "        [-103.939   , -116.779   , -113.68    ]],\n",
              "\n",
              "       [[ -55.939003,  -65.779   ,  -68.68    ],\n",
              "        [-103.939   , -116.779   , -122.68    ],\n",
              "        [ -62.939003,  -70.779   ,  -78.68    ],\n",
              "        ...,\n",
              "        [-100.939   , -110.779   , -112.68    ],\n",
              "        [-100.939   , -110.779   , -109.68    ],\n",
              "        [ -98.939   , -109.779   , -106.68    ]],\n",
              "\n",
              "       [[ -59.939003,  -73.779   ,  -76.68    ],\n",
              "        [ -98.939   , -112.779   , -117.68    ],\n",
              "        [ -63.939003,  -76.779   ,  -83.68    ],\n",
              "        ...,\n",
              "        [-100.939   , -110.779   , -112.68    ],\n",
              "        [ -96.939   , -106.779   , -105.68    ],\n",
              "        [-101.939   , -109.779   , -107.68    ]],\n",
              "\n",
              "       ...,\n",
              "\n",
              "       [[-101.939   , -116.779   , -123.68    ],\n",
              "        [-100.939   , -115.779   , -122.68    ],\n",
              "        [ -99.939   , -114.779   , -121.68    ],\n",
              "        ...,\n",
              "        [ -76.939   ,  -77.779   ,  -78.68    ],\n",
              "        [ -75.939   ,  -76.779   ,  -77.68    ],\n",
              "        [ -72.939   ,  -73.779   ,  -74.68    ]],\n",
              "\n",
              "       [[-101.939   , -116.779   , -123.68    ],\n",
              "        [ -98.939   , -113.779   , -120.68    ],\n",
              "        [-100.939   , -115.779   , -122.68    ],\n",
              "        ...,\n",
              "        [ -75.939   ,  -76.779   ,  -77.68    ],\n",
              "        [ -76.939   ,  -77.779   ,  -78.68    ],\n",
              "        [ -75.939   ,  -76.779   ,  -77.68    ]],\n",
              "\n",
              "       [[-100.939   , -115.779   , -122.68    ],\n",
              "        [ -96.939   , -111.779   , -118.68    ],\n",
              "        [-101.939   , -116.779   , -123.68    ],\n",
              "        ...,\n",
              "        [ -75.939   ,  -76.779   ,  -77.68    ],\n",
              "        [ -78.939   ,  -79.779   ,  -80.68    ],\n",
              "        [ -81.939   ,  -82.779   ,  -83.68    ]]], dtype=float32)"
            ]
          },
          "metadata": {},
          "execution_count": 67
        }
      ]
    },
    {
      "cell_type": "code",
      "metadata": {
        "colab": {
          "base_uri": "https://localhost:8080/"
        },
        "id": "zYxdcvgMKJMZ",
        "outputId": "60ae2904-cb8f-4f34-b852-f52e62f9b831"
      },
      "source": [
        "from tensorflow.keras.callbacks import EarlyStopping\n",
        "\n",
        "es = EarlyStopping(monitor='val_accuracy', mode='max', patience=5, verbose=1, restore_best_weights=False)\n",
        "\n",
        "history = customized_vgg.fit(X_train, y_train_final,\n",
        "                    validation_split=0.3,\n",
        "                    shuffle = True, \n",
        "                    epochs=50, \n",
        "                    batch_size=16, \n",
        "                    callbacks=[es])"
      ],
      "execution_count": null,
      "outputs": [
        {
          "output_type": "stream",
          "name": "stdout",
          "text": [
            "Epoch 1/50\n",
            "700/700 [==============================] - 36s 30ms/step - loss: 0.3643 - accuracy: 0.9607 - val_loss: 0.1904 - val_accuracy: 0.9715\n",
            "Epoch 2/50\n",
            "700/700 [==============================] - 20s 28ms/step - loss: 0.0267 - accuracy: 0.9956 - val_loss: 0.2420 - val_accuracy: 0.9710\n",
            "Epoch 3/50\n",
            "700/700 [==============================] - 20s 28ms/step - loss: 0.0042 - accuracy: 0.9991 - val_loss: 0.2459 - val_accuracy: 0.9700\n",
            "Epoch 4/50\n",
            "700/700 [==============================] - 20s 28ms/step - loss: 0.0044 - accuracy: 0.9991 - val_loss: 0.2483 - val_accuracy: 0.9700\n",
            "Epoch 5/50\n",
            "700/700 [==============================] - 20s 28ms/step - loss: 0.0039 - accuracy: 0.9987 - val_loss: 0.2895 - val_accuracy: 0.9731\n",
            "Epoch 6/50\n",
            "700/700 [==============================] - 20s 28ms/step - loss: 0.0118 - accuracy: 0.9986 - val_loss: 0.2948 - val_accuracy: 0.9765\n",
            "Epoch 7/50\n",
            "700/700 [==============================] - 20s 28ms/step - loss: 0.0212 - accuracy: 0.9964 - val_loss: 0.3401 - val_accuracy: 0.9735\n",
            "Epoch 8/50\n",
            "700/700 [==============================] - 20s 28ms/step - loss: 0.0300 - accuracy: 0.9966 - val_loss: 0.3477 - val_accuracy: 0.9746\n",
            "Epoch 9/50\n",
            "700/700 [==============================] - 20s 28ms/step - loss: 0.0056 - accuracy: 0.9987 - val_loss: 0.3487 - val_accuracy: 0.9765\n",
            "Epoch 10/50\n",
            "700/700 [==============================] - 20s 28ms/step - loss: 0.0085 - accuracy: 0.9992 - val_loss: 0.3741 - val_accuracy: 0.9758\n",
            "Epoch 11/50\n",
            "700/700 [==============================] - 20s 28ms/step - loss: 0.0059 - accuracy: 0.9989 - val_loss: 0.3523 - val_accuracy: 0.9796\n",
            "Epoch 12/50\n",
            "700/700 [==============================] - 20s 28ms/step - loss: 0.0011 - accuracy: 0.9997 - val_loss: 0.3350 - val_accuracy: 0.9804\n",
            "Epoch 13/50\n",
            "700/700 [==============================] - 20s 28ms/step - loss: 0.0086 - accuracy: 0.9990 - val_loss: 0.4221 - val_accuracy: 0.9771\n",
            "Epoch 14/50\n",
            "700/700 [==============================] - 20s 28ms/step - loss: 0.0063 - accuracy: 0.9988 - val_loss: 0.6096 - val_accuracy: 0.9702\n",
            "Epoch 15/50\n",
            "700/700 [==============================] - 20s 28ms/step - loss: 0.0019 - accuracy: 0.9997 - val_loss: 0.4797 - val_accuracy: 0.9754\n",
            "Epoch 16/50\n",
            "700/700 [==============================] - 20s 28ms/step - loss: 0.0073 - accuracy: 0.9994 - val_loss: 0.4628 - val_accuracy: 0.9792\n",
            "Epoch 17/50\n",
            "700/700 [==============================] - 20s 28ms/step - loss: 0.0119 - accuracy: 0.9984 - val_loss: 0.5682 - val_accuracy: 0.9773\n",
            "Epoch 00017: early stopping\n"
          ]
        }
      ]
    },
    {
      "cell_type": "code",
      "metadata": {
        "colab": {
          "base_uri": "https://localhost:8080/"
        },
        "id": "6KLfuMyBQX7t",
        "outputId": "d983a129-84a7-4220-d0e0-2eefb1faca4b"
      },
      "source": [
        "result = customized_vgg.evaluate(X_test,y_test_final)"
      ],
      "execution_count": null,
      "outputs": [
        {
          "output_type": "stream",
          "name": "stdout",
          "text": [
            "125/125 [==============================] - 6s 35ms/step - loss: 0.3548 - accuracy: 0.9843\n"
          ]
        }
      ]
    },
    {
      "cell_type": "code",
      "metadata": {
        "colab": {
          "base_uri": "https://localhost:8080/",
          "height": 312
        },
        "id": "GAU3b0UH120m",
        "outputId": "6a0dd286-1909-4a1a-bed1-06d4e8d1bd3e"
      },
      "source": [
        "X_test.shape, y_test_final.shape\n",
        "\n",
        "\n",
        "plt.imshow(X_test_final[])"
      ],
      "execution_count": null,
      "outputs": [
        {
          "output_type": "stream",
          "name": "stderr",
          "text": [
            "Clipping input data to the valid range for imshow with RGB data ([0..1] for floats or [0..255] for integers).\n"
          ]
        },
        {
          "output_type": "execute_result",
          "data": {
            "text/plain": [
              "<matplotlib.image.AxesImage at 0x7fe59217ba90>"
            ]
          },
          "metadata": {},
          "execution_count": 62
        },
        {
          "output_type": "display_data",
          "data": {
            "image/png": "[encoded data removed]",
            "text/plain": [
              "<Figure size 432x288 with 1 Axes>"
            ]
          },
          "metadata": {}
        }
      ]
    },
    {
      "cell_type": "code",
      "metadata": {
        "id": "HQIhU9WT6HPT"
      },
      "source": [
        "\n",
        "X_test_look = X_test_final / 255\n",
        "\n",
        "X_train_look = X_train_final / 255"
      ],
      "execution_count": null,
      "outputs": []
    },
    {
      "cell_type": "code",
      "metadata": {
        "colab": {
          "base_uri": "https://localhost:8080/",
          "height": 312
        },
        "id": "shbw-EAv6NGg",
        "outputId": "65031bf1-996c-4b87-fece-a5a5eced89c2"
      },
      "source": [
        "plt.imshow(X_train_look[0])"
      ],
      "execution_count": null,
      "outputs": [
        {
          "output_type": "stream",
          "name": "stderr",
          "text": [
            "Clipping input data to the valid range for imshow with RGB data ([0..1] for floats or [0..255] for integers).\n"
          ]
        },
        {
          "output_type": "execute_result",
          "data": {
            "text/plain": [
              "<matplotlib.image.AxesImage at 0x7fe59201e690>"
            ]
          },
          "metadata": {},
          "execution_count": 84
        },
        {
          "output_type": "display_data",
          "data": {
            "image/png": "[encoded data removed]",
            "text/plain": [
              "<Figure size 432x288 with 1 Axes>"
            ]
          },
          "metadata": {}
        }
      ]
    },
    {
      "cell_type": "code",
      "metadata": {
        "id": "-1kIxbPyQcZa"
      },
      "source": [
        "customized_vgg.save('photo_multi_classifier.h5')"
      ],
      "execution_count": null,
      "outputs": []
    },
    {
      "cell_type": "code",
      "metadata": {
        "colab": {
          "base_uri": "https://localhost:8080/"
        },
        "id": "KipYMniS1VwC",
        "outputId": "d518bead-a44c-4460-ec92-5bd4b636ed54"
      },
      "source": [
        "y_train_final[0]"
      ],
      "execution_count": null,
      "outputs": [
        {
          "output_type": "execute_result",
          "data": {
            "text/plain": [
              "array([1., 0., 0., 0.], dtype=float32)"
            ]
          },
          "metadata": {},
          "execution_count": 85
        }
      ]
    },
    {
      "cell_type": "code",
      "metadata": {
        "colab": {
          "base_uri": "https://localhost:8080/"
        },
        "id": "iIqdAb9W67ns",
        "outputId": "a2ea64f8-c430-484a-fa16-1b0d6b636544"
      },
      "source": [
        "customized_vgg.predict(np.expand_dims(X_test[1012],axis=0))"
      ],
      "execution_count": null,
      "outputs": [
        {
          "output_type": "execute_result",
          "data": {
            "text/plain": [
              "array([[0.000000e+00, 0.000000e+00, 1.000000e+00, 2.158693e-33]],\n",
              "      dtype=float32)"
            ]
          },
          "metadata": {},
          "execution_count": 49
        }
      ]
    },
    {
      "cell_type": "code",
      "metadata": {
        "id": "8C3SJ8fehVXr"
      },
      "source": [
        "def display_random_image(class_names, images, labels):\n",
        "    \"\"\"\n",
        "        Display a random image from the images array and its correspond label from the labels array.\n",
        "    \"\"\"\n",
        "    \n",
        "    index = np.random.randint(images.shape[0])\n",
        "    plt.figure()\n",
        "    plt.imshow(X_test_final[index]/255.)\n",
        "    plt.xticks([])\n",
        "    plt.yticks([])\n",
        "    plt.grid(False)\n",
        "    plt.title('Image #{} : '.format(index) + class_names[labels[index]])\n",
        "    plt.show()"
      ],
      "execution_count": null,
      "outputs": []
    },
    {
      "cell_type": "code",
      "metadata": {
        "colab": {
          "base_uri": "https://localhost:8080/"
        },
        "id": "hwKsTqQQqM8v",
        "outputId": "8548c5f4-bdff-4e43-82dd-c42d7ad5f4ca"
      },
      "source": [
        "pred_new = customized_vgg.predict(np.expand_dims(X_test[23],axis=0))\n",
        "pred = [round(val) for val in pred_new[0]]\n",
        "if 1 in pred:\n",
        "  print(pred.index(1))"
      ],
      "execution_count": null,
      "outputs": [
        {
          "output_type": "stream",
          "name": "stdout",
          "text": [
            "[0, 0, 0, 1]\n",
            "3\n"
          ]
        }
      ]
    },
    {
      "cell_type": "code",
      "metadata": {
        "colab": {
          "base_uri": "https://localhost:8080/",
          "height": 285
        },
        "id": "M8Up8h6-ivIY",
        "outputId": "ab70ef6b-2ec1-482e-c3f7-3abc0ad2cf04"
      },
      "source": [
        "predictions = customized_vgg.predict(X_test)     # Vector of probabilities\n",
        "pred_labels = np.argmax(predictions, axis = 1) # We take the highest probability\n",
        "class_names = ['city','nature','food','animals']\n",
        "display_random_image(class_names, X_test, pred_labels)"
      ],
      "execution_count": null,
      "outputs": [
        {
          "output_type": "stream",
          "name": "stderr",
          "text": [
            "Clipping input data to the valid range for imshow with RGB data ([0..1] for floats or [0..255] for integers).\n"
          ]
        },
        {
          "output_type": "display_data",
          "data": {
            "image/png": "[encoded data removed]",
            "text/plain": [
              "<Figure size 432x288 with 1 Axes>"
            ]
          },
          "metadata": {}
        }
      ]
    },
    {
      "cell_type": "code",
      "metadata": {
        "colab": {
          "base_uri": "https://localhost:8080/",
          "height": 329
        },
        "id": "R4yJNHu6jwbU",
        "outputId": "2ab02021-c477-4774-b41e-b40c0a1f728e"
      },
      "source": [
        "\n",
        "X_test_classes, y_test_classes = shuffle(X_test, y_test_final, random_state = 25)\n",
        "\n",
        "\n",
        "\n",
        "plt.imshow(X_test_classes[0] / 255)\n",
        "\n",
        "customized_vgg.predict(np.expand_dims(X_test_classes[0], axis = 0))"
      ],
      "execution_count": null,
      "outputs": [
        {
          "output_type": "stream",
          "name": "stderr",
          "text": [
            "Clipping input data to the valid range for imshow with RGB data ([0..1] for floats or [0..255] for integers).\n"
          ]
        },
        {
          "output_type": "execute_result",
          "data": {
            "text/plain": [
              "array([[2.3434890e-26, 1.0000000e+00, 7.6100444e-29, 5.0476662e-32]],\n",
              "      dtype=float32)"
            ]
          },
          "metadata": {},
          "execution_count": 54
        },
        {
          "output_type": "display_data",
          "data": {
            "image/png": "[encoded data removed]",
            "text/plain": [
              "<Figure size 432x288 with 1 Axes>"
            ]
          },
          "metadata": {}
        }
      ]
    },
    {
      "cell_type": "code",
      "metadata": {
        "id": "fjKUW-o6kKTc"
      },
      "source": [
        "X"
      ],
      "execution_count": null,
      "outputs": []
    }
  ]
}